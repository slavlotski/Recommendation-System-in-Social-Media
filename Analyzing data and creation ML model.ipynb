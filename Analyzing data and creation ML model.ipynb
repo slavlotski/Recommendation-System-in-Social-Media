{
 "cells": [
  {
   "cell_type": "markdown",
   "id": "694f1952",
   "metadata": {},
   "source": [
    "## Импорт библиотек и установка настроек"
   ]
  },
  {
   "cell_type": "code",
   "execution_count": 1,
   "id": "ed0666ff",
   "metadata": {},
   "outputs": [],
   "source": [
    "import pandas as pd\n",
    "import numpy as np\n",
    "import matplotlib.pyplot as plt\n",
    "import seaborn as sns\n",
    "import warnings\n",
    "import matplotlib as mlp\n",
    "\n",
    "from sklearn.metrics import classification_report\n",
    "from sklearn.metrics import confusion_matrix, ConfusionMatrixDisplay\n",
    "from catboost import CatBoostClassifier\n",
    "\n",
    "warnings.simplefilter(action='ignore', category=FutureWarning)\n",
    "mlp.rcParams['lines.linewidth'] = 5\n",
    "mlp.rcParams['xtick.major.size'] = 10\n",
    "mlp.rcParams['xtick.major.width'] = 5\n",
    "mlp.rcParams['xtick.labelsize'] = 10\n",
    "\n",
    "mlp.rcParams['ytick.major.size'] = 10\n",
    "mlp.rcParams['ytick.major.width'] = 5\n",
    "mlp.rcParams['ytick.labelsize'] = 10"
   ]
  },
  {
   "cell_type": "markdown",
   "id": "d59a057f",
   "metadata": {},
   "source": [
    "## Чтение данных из файлов"
   ]
  },
  {
   "cell_type": "code",
   "execution_count": 2,
   "id": "1b81531d",
   "metadata": {},
   "outputs": [],
   "source": [
    "user_df =  pd.read_csv('user_df.csv')\n",
    "feed_df = pd.read_csv('feed_df.csv', parse_dates=['time'])\n",
    "post_df = pd.read_csv('post_df.csv')"
   ]
  },
  {
   "cell_type": "markdown",
   "id": "0212f039",
   "metadata": {},
   "source": [
    "## EDA"
   ]
  },
  {
   "cell_type": "code",
   "execution_count": 3,
   "id": "5df8469e",
   "metadata": {
    "scrolled": false
   },
   "outputs": [
    {
     "data": {
      "text/html": [
       "<div>\n",
       "<style scoped>\n",
       "    .dataframe tbody tr th:only-of-type {\n",
       "        vertical-align: middle;\n",
       "    }\n",
       "\n",
       "    .dataframe tbody tr th {\n",
       "        vertical-align: top;\n",
       "    }\n",
       "\n",
       "    .dataframe thead th {\n",
       "        text-align: right;\n",
       "    }\n",
       "</style>\n",
       "<table border=\"1\" class=\"dataframe\">\n",
       "  <thead>\n",
       "    <tr style=\"text-align: right;\">\n",
       "      <th></th>\n",
       "      <th>user_id</th>\n",
       "      <th>gender</th>\n",
       "      <th>age</th>\n",
       "      <th>country</th>\n",
       "      <th>city</th>\n",
       "      <th>exp_group</th>\n",
       "      <th>os</th>\n",
       "      <th>source</th>\n",
       "    </tr>\n",
       "  </thead>\n",
       "  <tbody>\n",
       "    <tr>\n",
       "      <th>0</th>\n",
       "      <td>200</td>\n",
       "      <td>1</td>\n",
       "      <td>34</td>\n",
       "      <td>Russia</td>\n",
       "      <td>Degtyarsk</td>\n",
       "      <td>3</td>\n",
       "      <td>Android</td>\n",
       "      <td>ads</td>\n",
       "    </tr>\n",
       "    <tr>\n",
       "      <th>1</th>\n",
       "      <td>201</td>\n",
       "      <td>0</td>\n",
       "      <td>37</td>\n",
       "      <td>Russia</td>\n",
       "      <td>Abakan</td>\n",
       "      <td>0</td>\n",
       "      <td>Android</td>\n",
       "      <td>ads</td>\n",
       "    </tr>\n",
       "    <tr>\n",
       "      <th>2</th>\n",
       "      <td>202</td>\n",
       "      <td>1</td>\n",
       "      <td>17</td>\n",
       "      <td>Russia</td>\n",
       "      <td>Smolensk</td>\n",
       "      <td>4</td>\n",
       "      <td>Android</td>\n",
       "      <td>ads</td>\n",
       "    </tr>\n",
       "    <tr>\n",
       "      <th>3</th>\n",
       "      <td>203</td>\n",
       "      <td>0</td>\n",
       "      <td>18</td>\n",
       "      <td>Russia</td>\n",
       "      <td>Moscow</td>\n",
       "      <td>1</td>\n",
       "      <td>iOS</td>\n",
       "      <td>ads</td>\n",
       "    </tr>\n",
       "    <tr>\n",
       "      <th>4</th>\n",
       "      <td>204</td>\n",
       "      <td>0</td>\n",
       "      <td>36</td>\n",
       "      <td>Russia</td>\n",
       "      <td>Anzhero-Sudzhensk</td>\n",
       "      <td>3</td>\n",
       "      <td>Android</td>\n",
       "      <td>ads</td>\n",
       "    </tr>\n",
       "  </tbody>\n",
       "</table>\n",
       "</div>"
      ],
      "text/plain": [
       "   user_id  gender  age country               city  exp_group       os source\n",
       "0      200       1   34  Russia          Degtyarsk          3  Android    ads\n",
       "1      201       0   37  Russia             Abakan          0  Android    ads\n",
       "2      202       1   17  Russia           Smolensk          4  Android    ads\n",
       "3      203       0   18  Russia             Moscow          1      iOS    ads\n",
       "4      204       0   36  Russia  Anzhero-Sudzhensk          3  Android    ads"
      ]
     },
     "execution_count": 3,
     "metadata": {},
     "output_type": "execute_result"
    }
   ],
   "source": [
    "user_df.head()"
   ]
  },
  {
   "cell_type": "code",
   "execution_count": 4,
   "id": "4da20a1e",
   "metadata": {},
   "outputs": [
    {
     "data": {
      "text/html": [
       "<div>\n",
       "<style scoped>\n",
       "    .dataframe tbody tr th:only-of-type {\n",
       "        vertical-align: middle;\n",
       "    }\n",
       "\n",
       "    .dataframe tbody tr th {\n",
       "        vertical-align: top;\n",
       "    }\n",
       "\n",
       "    .dataframe thead th {\n",
       "        text-align: right;\n",
       "    }\n",
       "</style>\n",
       "<table border=\"1\" class=\"dataframe\">\n",
       "  <thead>\n",
       "    <tr style=\"text-align: right;\">\n",
       "      <th></th>\n",
       "      <th>post_id</th>\n",
       "      <th>user_id</th>\n",
       "      <th>action</th>\n",
       "      <th>target</th>\n",
       "      <th>time</th>\n",
       "    </tr>\n",
       "  </thead>\n",
       "  <tbody>\n",
       "    <tr>\n",
       "      <th>0</th>\n",
       "      <td>5334</td>\n",
       "      <td>83781</td>\n",
       "      <td>view</td>\n",
       "      <td>0</td>\n",
       "      <td>2021-10-12 17:14:30</td>\n",
       "    </tr>\n",
       "    <tr>\n",
       "      <th>1</th>\n",
       "      <td>3811</td>\n",
       "      <td>83781</td>\n",
       "      <td>view</td>\n",
       "      <td>0</td>\n",
       "      <td>2021-10-12 17:16:51</td>\n",
       "    </tr>\n",
       "    <tr>\n",
       "      <th>2</th>\n",
       "      <td>706</td>\n",
       "      <td>83781</td>\n",
       "      <td>view</td>\n",
       "      <td>0</td>\n",
       "      <td>2021-10-12 17:18:02</td>\n",
       "    </tr>\n",
       "    <tr>\n",
       "      <th>3</th>\n",
       "      <td>7193</td>\n",
       "      <td>83781</td>\n",
       "      <td>view</td>\n",
       "      <td>0</td>\n",
       "      <td>2021-10-12 17:18:28</td>\n",
       "    </tr>\n",
       "    <tr>\n",
       "      <th>4</th>\n",
       "      <td>3846</td>\n",
       "      <td>83781</td>\n",
       "      <td>view</td>\n",
       "      <td>0</td>\n",
       "      <td>2021-10-12 17:21:21</td>\n",
       "    </tr>\n",
       "  </tbody>\n",
       "</table>\n",
       "</div>"
      ],
      "text/plain": [
       "   post_id  user_id action  target                time\n",
       "0     5334    83781   view       0 2021-10-12 17:14:30\n",
       "1     3811    83781   view       0 2021-10-12 17:16:51\n",
       "2      706    83781   view       0 2021-10-12 17:18:02\n",
       "3     7193    83781   view       0 2021-10-12 17:18:28\n",
       "4     3846    83781   view       0 2021-10-12 17:21:21"
      ]
     },
     "execution_count": 4,
     "metadata": {},
     "output_type": "execute_result"
    }
   ],
   "source": [
    "feed_df.head()"
   ]
  },
  {
   "cell_type": "code",
   "execution_count": 5,
   "id": "0f08c799",
   "metadata": {},
   "outputs": [
    {
     "data": {
      "text/html": [
       "<div>\n",
       "<style scoped>\n",
       "    .dataframe tbody tr th:only-of-type {\n",
       "        vertical-align: middle;\n",
       "    }\n",
       "\n",
       "    .dataframe tbody tr th {\n",
       "        vertical-align: top;\n",
       "    }\n",
       "\n",
       "    .dataframe thead th {\n",
       "        text-align: right;\n",
       "    }\n",
       "</style>\n",
       "<table border=\"1\" class=\"dataframe\">\n",
       "  <thead>\n",
       "    <tr style=\"text-align: right;\">\n",
       "      <th></th>\n",
       "      <th>post_id</th>\n",
       "      <th>text</th>\n",
       "      <th>topic</th>\n",
       "    </tr>\n",
       "  </thead>\n",
       "  <tbody>\n",
       "    <tr>\n",
       "      <th>0</th>\n",
       "      <td>1</td>\n",
       "      <td>UK economy facing major risks\\n\\nThe UK manufa...</td>\n",
       "      <td>business</td>\n",
       "    </tr>\n",
       "    <tr>\n",
       "      <th>1</th>\n",
       "      <td>2</td>\n",
       "      <td>Aids and climate top Davos agenda\\n\\nClimate c...</td>\n",
       "      <td>business</td>\n",
       "    </tr>\n",
       "    <tr>\n",
       "      <th>2</th>\n",
       "      <td>3</td>\n",
       "      <td>Asian quake hits European shares\\n\\nShares in ...</td>\n",
       "      <td>business</td>\n",
       "    </tr>\n",
       "    <tr>\n",
       "      <th>3</th>\n",
       "      <td>4</td>\n",
       "      <td>India power shares jump on debut\\n\\nShares in ...</td>\n",
       "      <td>business</td>\n",
       "    </tr>\n",
       "    <tr>\n",
       "      <th>4</th>\n",
       "      <td>5</td>\n",
       "      <td>Lacroix label bought by US firm\\n\\nLuxury good...</td>\n",
       "      <td>business</td>\n",
       "    </tr>\n",
       "  </tbody>\n",
       "</table>\n",
       "</div>"
      ],
      "text/plain": [
       "   post_id                                               text     topic\n",
       "0        1  UK economy facing major risks\\n\\nThe UK manufa...  business\n",
       "1        2  Aids and climate top Davos agenda\\n\\nClimate c...  business\n",
       "2        3  Asian quake hits European shares\\n\\nShares in ...  business\n",
       "3        4  India power shares jump on debut\\n\\nShares in ...  business\n",
       "4        5  Lacroix label bought by US firm\\n\\nLuxury good...  business"
      ]
     },
     "execution_count": 5,
     "metadata": {},
     "output_type": "execute_result"
    }
   ],
   "source": [
    "post_df.head()"
   ]
  },
  {
   "cell_type": "code",
   "execution_count": 6,
   "id": "28554f4b",
   "metadata": {},
   "outputs": [
    {
     "name": "stdout",
     "output_type": "stream",
     "text": [
      "user_df check \n",
      "user_id      0\n",
      "gender       0\n",
      "age          0\n",
      "country      0\n",
      "city         0\n",
      "exp_group    0\n",
      "os           0\n",
      "source       0\n",
      "dtype: int64\n",
      "post_df check \n",
      "post_id    0\n",
      "text       0\n",
      "topic      0\n",
      "dtype: int64\n",
      "feed_df check \n",
      "post_id    0\n",
      "user_id    0\n",
      "action     0\n",
      "target     0\n",
      "time       0\n",
      "dtype: int64\n"
     ]
    }
   ],
   "source": [
    "# Проверяем наличие пустых значений в датафреймах\n",
    "print(f\"user_df check \\n{user_df.isnull().sum()}\")\n",
    "print(f\"post_df check \\n{post_df.isnull().sum()}\")\n",
    "print(f\"feed_df check \\n{feed_df.isnull().sum()}\")"
   ]
  },
  {
   "cell_type": "code",
   "execution_count": 7,
   "id": "2008ef32",
   "metadata": {},
   "outputs": [
    {
     "data": {
      "text/html": [
       "<div>\n",
       "<style scoped>\n",
       "    .dataframe tbody tr th:only-of-type {\n",
       "        vertical-align: middle;\n",
       "    }\n",
       "\n",
       "    .dataframe tbody tr th {\n",
       "        vertical-align: top;\n",
       "    }\n",
       "\n",
       "    .dataframe thead th {\n",
       "        text-align: right;\n",
       "    }\n",
       "</style>\n",
       "<table border=\"1\" class=\"dataframe\">\n",
       "  <thead>\n",
       "    <tr style=\"text-align: right;\">\n",
       "      <th></th>\n",
       "      <th>user_id</th>\n",
       "      <th>gender</th>\n",
       "      <th>age</th>\n",
       "      <th>country</th>\n",
       "      <th>city</th>\n",
       "      <th>exp_group</th>\n",
       "      <th>os</th>\n",
       "      <th>source</th>\n",
       "    </tr>\n",
       "  </thead>\n",
       "  <tbody>\n",
       "    <tr>\n",
       "      <th>count</th>\n",
       "      <td>159875.000000</td>\n",
       "      <td>159875.000000</td>\n",
       "      <td>159875.000000</td>\n",
       "      <td>159875</td>\n",
       "      <td>159875</td>\n",
       "      <td>159875.000000</td>\n",
       "      <td>159875</td>\n",
       "      <td>159875</td>\n",
       "    </tr>\n",
       "    <tr>\n",
       "      <th>unique</th>\n",
       "      <td>NaN</td>\n",
       "      <td>NaN</td>\n",
       "      <td>NaN</td>\n",
       "      <td>11</td>\n",
       "      <td>3900</td>\n",
       "      <td>NaN</td>\n",
       "      <td>2</td>\n",
       "      <td>2</td>\n",
       "    </tr>\n",
       "    <tr>\n",
       "      <th>top</th>\n",
       "      <td>NaN</td>\n",
       "      <td>NaN</td>\n",
       "      <td>NaN</td>\n",
       "      <td>Russia</td>\n",
       "      <td>Moscow</td>\n",
       "      <td>NaN</td>\n",
       "      <td>Android</td>\n",
       "      <td>ads</td>\n",
       "    </tr>\n",
       "    <tr>\n",
       "      <th>freq</th>\n",
       "      <td>NaN</td>\n",
       "      <td>NaN</td>\n",
       "      <td>NaN</td>\n",
       "      <td>140124</td>\n",
       "      <td>21434</td>\n",
       "      <td>NaN</td>\n",
       "      <td>103842</td>\n",
       "      <td>99645</td>\n",
       "    </tr>\n",
       "    <tr>\n",
       "      <th>mean</th>\n",
       "      <td>85029.191243</td>\n",
       "      <td>0.551418</td>\n",
       "      <td>26.531215</td>\n",
       "      <td>NaN</td>\n",
       "      <td>NaN</td>\n",
       "      <td>1.997511</td>\n",
       "      <td>NaN</td>\n",
       "      <td>NaN</td>\n",
       "    </tr>\n",
       "    <tr>\n",
       "      <th>std</th>\n",
       "      <td>48962.628764</td>\n",
       "      <td>0.497351</td>\n",
       "      <td>9.211525</td>\n",
       "      <td>NaN</td>\n",
       "      <td>NaN</td>\n",
       "      <td>1.413574</td>\n",
       "      <td>NaN</td>\n",
       "      <td>NaN</td>\n",
       "    </tr>\n",
       "    <tr>\n",
       "      <th>min</th>\n",
       "      <td>200.000000</td>\n",
       "      <td>0.000000</td>\n",
       "      <td>14.000000</td>\n",
       "      <td>NaN</td>\n",
       "      <td>NaN</td>\n",
       "      <td>0.000000</td>\n",
       "      <td>NaN</td>\n",
       "      <td>NaN</td>\n",
       "    </tr>\n",
       "    <tr>\n",
       "      <th>25%</th>\n",
       "      <td>41001.500000</td>\n",
       "      <td>0.000000</td>\n",
       "      <td>19.000000</td>\n",
       "      <td>NaN</td>\n",
       "      <td>NaN</td>\n",
       "      <td>1.000000</td>\n",
       "      <td>NaN</td>\n",
       "      <td>NaN</td>\n",
       "    </tr>\n",
       "    <tr>\n",
       "      <th>50%</th>\n",
       "      <td>85429.000000</td>\n",
       "      <td>1.000000</td>\n",
       "      <td>24.000000</td>\n",
       "      <td>NaN</td>\n",
       "      <td>NaN</td>\n",
       "      <td>2.000000</td>\n",
       "      <td>NaN</td>\n",
       "      <td>NaN</td>\n",
       "    </tr>\n",
       "    <tr>\n",
       "      <th>75%</th>\n",
       "      <td>127679.500000</td>\n",
       "      <td>1.000000</td>\n",
       "      <td>32.000000</td>\n",
       "      <td>NaN</td>\n",
       "      <td>NaN</td>\n",
       "      <td>3.000000</td>\n",
       "      <td>NaN</td>\n",
       "      <td>NaN</td>\n",
       "    </tr>\n",
       "    <tr>\n",
       "      <th>max</th>\n",
       "      <td>168552.000000</td>\n",
       "      <td>1.000000</td>\n",
       "      <td>53.000000</td>\n",
       "      <td>NaN</td>\n",
       "      <td>NaN</td>\n",
       "      <td>4.000000</td>\n",
       "      <td>NaN</td>\n",
       "      <td>NaN</td>\n",
       "    </tr>\n",
       "  </tbody>\n",
       "</table>\n",
       "</div>"
      ],
      "text/plain": [
       "              user_id         gender            age country    city  \\\n",
       "count   159875.000000  159875.000000  159875.000000  159875  159875   \n",
       "unique            NaN            NaN            NaN      11    3900   \n",
       "top               NaN            NaN            NaN  Russia  Moscow   \n",
       "freq              NaN            NaN            NaN  140124   21434   \n",
       "mean     85029.191243       0.551418      26.531215     NaN     NaN   \n",
       "std      48962.628764       0.497351       9.211525     NaN     NaN   \n",
       "min        200.000000       0.000000      14.000000     NaN     NaN   \n",
       "25%      41001.500000       0.000000      19.000000     NaN     NaN   \n",
       "50%      85429.000000       1.000000      24.000000     NaN     NaN   \n",
       "75%     127679.500000       1.000000      32.000000     NaN     NaN   \n",
       "max     168552.000000       1.000000      53.000000     NaN     NaN   \n",
       "\n",
       "            exp_group       os  source  \n",
       "count   159875.000000   159875  159875  \n",
       "unique            NaN        2       2  \n",
       "top               NaN  Android     ads  \n",
       "freq              NaN   103842   99645  \n",
       "mean         1.997511      NaN     NaN  \n",
       "std          1.413574      NaN     NaN  \n",
       "min          0.000000      NaN     NaN  \n",
       "25%          1.000000      NaN     NaN  \n",
       "50%          2.000000      NaN     NaN  \n",
       "75%          3.000000      NaN     NaN  \n",
       "max          4.000000      NaN     NaN  "
      ]
     },
     "execution_count": 7,
     "metadata": {},
     "output_type": "execute_result"
    }
   ],
   "source": [
    "user_df.describe(include = 'all')"
   ]
  },
  {
   "cell_type": "code",
   "execution_count": 8,
   "id": "5e2bcf1d",
   "metadata": {},
   "outputs": [
    {
     "data": {
      "text/html": [
       "<div>\n",
       "<style scoped>\n",
       "    .dataframe tbody tr th:only-of-type {\n",
       "        vertical-align: middle;\n",
       "    }\n",
       "\n",
       "    .dataframe tbody tr th {\n",
       "        vertical-align: top;\n",
       "    }\n",
       "\n",
       "    .dataframe thead th {\n",
       "        text-align: right;\n",
       "    }\n",
       "</style>\n",
       "<table border=\"1\" class=\"dataframe\">\n",
       "  <thead>\n",
       "    <tr style=\"text-align: right;\">\n",
       "      <th></th>\n",
       "      <th>post_id</th>\n",
       "      <th>text</th>\n",
       "      <th>topic</th>\n",
       "    </tr>\n",
       "  </thead>\n",
       "  <tbody>\n",
       "    <tr>\n",
       "      <th>count</th>\n",
       "      <td>7023.000000</td>\n",
       "      <td>7023</td>\n",
       "      <td>7023</td>\n",
       "    </tr>\n",
       "    <tr>\n",
       "      <th>unique</th>\n",
       "      <td>NaN</td>\n",
       "      <td>6924</td>\n",
       "      <td>7</td>\n",
       "    </tr>\n",
       "    <tr>\n",
       "      <th>top</th>\n",
       "      <td>NaN</td>\n",
       "      <td>Microsoft gets the blogging bug\\n\\nSoftware gi...</td>\n",
       "      <td>movie</td>\n",
       "    </tr>\n",
       "    <tr>\n",
       "      <th>freq</th>\n",
       "      <td>NaN</td>\n",
       "      <td>2</td>\n",
       "      <td>3000</td>\n",
       "    </tr>\n",
       "    <tr>\n",
       "      <th>mean</th>\n",
       "      <td>3666.533817</td>\n",
       "      <td>NaN</td>\n",
       "      <td>NaN</td>\n",
       "    </tr>\n",
       "    <tr>\n",
       "      <th>std</th>\n",
       "      <td>2109.613383</td>\n",
       "      <td>NaN</td>\n",
       "      <td>NaN</td>\n",
       "    </tr>\n",
       "    <tr>\n",
       "      <th>min</th>\n",
       "      <td>1.000000</td>\n",
       "      <td>NaN</td>\n",
       "      <td>NaN</td>\n",
       "    </tr>\n",
       "    <tr>\n",
       "      <th>25%</th>\n",
       "      <td>1849.500000</td>\n",
       "      <td>NaN</td>\n",
       "      <td>NaN</td>\n",
       "    </tr>\n",
       "    <tr>\n",
       "      <th>50%</th>\n",
       "      <td>3668.000000</td>\n",
       "      <td>NaN</td>\n",
       "      <td>NaN</td>\n",
       "    </tr>\n",
       "    <tr>\n",
       "      <th>75%</th>\n",
       "      <td>5492.000000</td>\n",
       "      <td>NaN</td>\n",
       "      <td>NaN</td>\n",
       "    </tr>\n",
       "    <tr>\n",
       "      <th>max</th>\n",
       "      <td>7319.000000</td>\n",
       "      <td>NaN</td>\n",
       "      <td>NaN</td>\n",
       "    </tr>\n",
       "  </tbody>\n",
       "</table>\n",
       "</div>"
      ],
      "text/plain": [
       "            post_id                                               text  topic\n",
       "count   7023.000000                                               7023   7023\n",
       "unique          NaN                                               6924      7\n",
       "top             NaN  Microsoft gets the blogging bug\\n\\nSoftware gi...  movie\n",
       "freq            NaN                                                  2   3000\n",
       "mean    3666.533817                                                NaN    NaN\n",
       "std     2109.613383                                                NaN    NaN\n",
       "min        1.000000                                                NaN    NaN\n",
       "25%     1849.500000                                                NaN    NaN\n",
       "50%     3668.000000                                                NaN    NaN\n",
       "75%     5492.000000                                                NaN    NaN\n",
       "max     7319.000000                                                NaN    NaN"
      ]
     },
     "execution_count": 8,
     "metadata": {},
     "output_type": "execute_result"
    }
   ],
   "source": [
    "post_df.describe(include = 'all')"
   ]
  },
  {
   "cell_type": "code",
   "execution_count": 9,
   "id": "af25f90b",
   "metadata": {},
   "outputs": [
    {
     "data": {
      "text/html": [
       "<div>\n",
       "<style scoped>\n",
       "    .dataframe tbody tr th:only-of-type {\n",
       "        vertical-align: middle;\n",
       "    }\n",
       "\n",
       "    .dataframe tbody tr th {\n",
       "        vertical-align: top;\n",
       "    }\n",
       "\n",
       "    .dataframe thead th {\n",
       "        text-align: right;\n",
       "    }\n",
       "</style>\n",
       "<table border=\"1\" class=\"dataframe\">\n",
       "  <thead>\n",
       "    <tr style=\"text-align: right;\">\n",
       "      <th></th>\n",
       "      <th>post_id</th>\n",
       "      <th>user_id</th>\n",
       "      <th>action</th>\n",
       "      <th>target</th>\n",
       "      <th>time</th>\n",
       "    </tr>\n",
       "  </thead>\n",
       "  <tbody>\n",
       "    <tr>\n",
       "      <th>count</th>\n",
       "      <td>1000000.000000</td>\n",
       "      <td>1000000.000000</td>\n",
       "      <td>1000000</td>\n",
       "      <td>1000000.000000</td>\n",
       "      <td>1000000</td>\n",
       "    </tr>\n",
       "    <tr>\n",
       "      <th>unique</th>\n",
       "      <td>NaN</td>\n",
       "      <td>NaN</td>\n",
       "      <td>2</td>\n",
       "      <td>NaN</td>\n",
       "      <td>652810</td>\n",
       "    </tr>\n",
       "    <tr>\n",
       "      <th>top</th>\n",
       "      <td>NaN</td>\n",
       "      <td>NaN</td>\n",
       "      <td>view</td>\n",
       "      <td>NaN</td>\n",
       "      <td>2021-11-18 10:45:49</td>\n",
       "    </tr>\n",
       "    <tr>\n",
       "      <th>freq</th>\n",
       "      <td>NaN</td>\n",
       "      <td>NaN</td>\n",
       "      <td>893556</td>\n",
       "      <td>NaN</td>\n",
       "      <td>9</td>\n",
       "    </tr>\n",
       "    <tr>\n",
       "      <th>first</th>\n",
       "      <td>NaN</td>\n",
       "      <td>NaN</td>\n",
       "      <td>NaN</td>\n",
       "      <td>NaN</td>\n",
       "      <td>2021-10-01 06:06:45</td>\n",
       "    </tr>\n",
       "    <tr>\n",
       "      <th>last</th>\n",
       "      <td>NaN</td>\n",
       "      <td>NaN</td>\n",
       "      <td>NaN</td>\n",
       "      <td>NaN</td>\n",
       "      <td>2021-12-29 23:51:06</td>\n",
       "    </tr>\n",
       "    <tr>\n",
       "      <th>mean</th>\n",
       "      <td>3397.016355</td>\n",
       "      <td>72513.094098</td>\n",
       "      <td>NaN</td>\n",
       "      <td>0.106445</td>\n",
       "      <td>NaN</td>\n",
       "    </tr>\n",
       "    <tr>\n",
       "      <th>std</th>\n",
       "      <td>2096.840057</td>\n",
       "      <td>46115.179463</td>\n",
       "      <td>NaN</td>\n",
       "      <td>0.308406</td>\n",
       "      <td>NaN</td>\n",
       "    </tr>\n",
       "    <tr>\n",
       "      <th>min</th>\n",
       "      <td>1.000000</td>\n",
       "      <td>11652.000000</td>\n",
       "      <td>NaN</td>\n",
       "      <td>0.000000</td>\n",
       "      <td>NaN</td>\n",
       "    </tr>\n",
       "    <tr>\n",
       "      <th>25%</th>\n",
       "      <td>1528.000000</td>\n",
       "      <td>32824.000000</td>\n",
       "      <td>NaN</td>\n",
       "      <td>0.000000</td>\n",
       "      <td>NaN</td>\n",
       "    </tr>\n",
       "    <tr>\n",
       "      <th>50%</th>\n",
       "      <td>3193.000000</td>\n",
       "      <td>70236.000000</td>\n",
       "      <td>NaN</td>\n",
       "      <td>0.000000</td>\n",
       "      <td>NaN</td>\n",
       "    </tr>\n",
       "    <tr>\n",
       "      <th>75%</th>\n",
       "      <td>5209.000000</td>\n",
       "      <td>98106.000000</td>\n",
       "      <td>NaN</td>\n",
       "      <td>0.000000</td>\n",
       "      <td>NaN</td>\n",
       "    </tr>\n",
       "    <tr>\n",
       "      <th>max</th>\n",
       "      <td>7319.000000</td>\n",
       "      <td>166595.000000</td>\n",
       "      <td>NaN</td>\n",
       "      <td>1.000000</td>\n",
       "      <td>NaN</td>\n",
       "    </tr>\n",
       "  </tbody>\n",
       "</table>\n",
       "</div>"
      ],
      "text/plain": [
       "               post_id         user_id   action          target  \\\n",
       "count   1000000.000000  1000000.000000  1000000  1000000.000000   \n",
       "unique             NaN             NaN        2             NaN   \n",
       "top                NaN             NaN     view             NaN   \n",
       "freq               NaN             NaN   893556             NaN   \n",
       "first              NaN             NaN      NaN             NaN   \n",
       "last               NaN             NaN      NaN             NaN   \n",
       "mean       3397.016355    72513.094098      NaN        0.106445   \n",
       "std        2096.840057    46115.179463      NaN        0.308406   \n",
       "min           1.000000    11652.000000      NaN        0.000000   \n",
       "25%        1528.000000    32824.000000      NaN        0.000000   \n",
       "50%        3193.000000    70236.000000      NaN        0.000000   \n",
       "75%        5209.000000    98106.000000      NaN        0.000000   \n",
       "max        7319.000000   166595.000000      NaN        1.000000   \n",
       "\n",
       "                       time  \n",
       "count               1000000  \n",
       "unique               652810  \n",
       "top     2021-11-18 10:45:49  \n",
       "freq                      9  \n",
       "first   2021-10-01 06:06:45  \n",
       "last    2021-12-29 23:51:06  \n",
       "mean                    NaN  \n",
       "std                     NaN  \n",
       "min                     NaN  \n",
       "25%                     NaN  \n",
       "50%                     NaN  \n",
       "75%                     NaN  \n",
       "max                     NaN  "
      ]
     },
     "execution_count": 9,
     "metadata": {},
     "output_type": "execute_result"
    }
   ],
   "source": [
    "feed_df.describe(include = 'all')"
   ]
  },
  {
   "cell_type": "code",
   "execution_count": 10,
   "id": "8900efa4",
   "metadata": {},
   "outputs": [
    {
     "name": "stdout",
     "output_type": "stream",
     "text": [
      "(159875, 8)\n",
      "(159875, 8)\n",
      "(7023, 3)\n",
      "(7023, 3)\n",
      "(1000000, 5)\n",
      "(1000000, 5)\n"
     ]
    }
   ],
   "source": [
    "# Удаляем дубли если они есть\n",
    "print(user_df.shape)\n",
    "user_df.drop_duplicates(inplace = True)\n",
    "print(user_df.shape)\n",
    "\n",
    "print(post_df.shape)\n",
    "post_df.drop_duplicates(inplace = True)\n",
    "print(post_df.shape)\n",
    "\n",
    "print(feed_df.shape)\n",
    "feed_df.drop_duplicates(inplace = True)\n",
    "print(feed_df.shape)"
   ]
  },
  {
   "cell_type": "code",
   "execution_count": 11,
   "id": "2f980533",
   "metadata": {},
   "outputs": [
    {
     "data": {
      "image/png": "[encoded data removed]",
      "text/plain": [
       "<Figure size 936x576 with 1 Axes>"
      ]
     },
     "metadata": {
      "needs_background": "light"
     },
     "output_type": "display_data"
    }
   ],
   "source": [
    "# Смотрим есть ли дисбаланс в наших классах в таргете\n",
    "plt.figure(figsize=(13,8))\n",
    "plt.xlabel('0 - view, 1 - like', fontsize = 18)\n",
    "feed_df.target.plot(kind = 'hist',);"
   ]
  },
  {
   "cell_type": "code",
   "execution_count": 12,
   "id": "fc3be6dd",
   "metadata": {},
   "outputs": [
    {
     "data": {
      "image/png": "[encoded data removed]",
      "text/plain": [
       "<Figure size 936x576 with 1 Axes>"
      ]
     },
     "metadata": {
      "needs_background": "light"
     },
     "output_type": "display_data"
    }
   ],
   "source": [
    "# В данных больше женщин чем мужчин\n",
    "plt.figure(figsize=(13,8))\n",
    "plt.xlabel('Gender, 0 - men, 1 - woman', fontsize = 18)\n",
    "user_df.gender.plot(kind = 'hist',);"
   ]
  },
  {
   "cell_type": "code",
   "execution_count": 13,
   "id": "70895a0e",
   "metadata": {},
   "outputs": [
    {
     "data": {
      "image/png": "[encoded data removed]",
      "text/plain": [
       "<Figure size 936x576 with 1 Axes>"
      ]
     },
     "metadata": {
      "needs_background": "light"
     },
     "output_type": "display_data"
    }
   ],
   "source": [
    "# Находим средний возраст в разрезе каждой страны\n",
    "mean_age = user_df.groupby('country').age.mean()\n",
    "\n",
    "plt.figure(figsize=(13,8))\n",
    "sns.scatterplot(x = mean_age.index, y = mean_age)\n",
    "plt.xticks(rotation = 45);"
   ]
  },
  {
   "cell_type": "code",
   "execution_count": 14,
   "id": "b2d360e4",
   "metadata": {},
   "outputs": [
    {
     "data": {
      "image/png": "[encoded data removed]",
      "text/plain": [
       "<Figure size 936x576 with 1 Axes>"
      ]
     },
     "metadata": {
      "needs_background": "light"
     },
     "output_type": "display_data"
    }
   ],
   "source": [
    "# Смотрим из какой страны наибольшее кол-во пользователей в социальной сети\n",
    "plt.figure(figsize=(13,8))\n",
    "sns.countplot(data = user_df, x = 'country', palette = 'hls' )\n",
    "plt.xticks(rotation = 45);"
   ]
  },
  {
   "cell_type": "code",
   "execution_count": 15,
   "id": "f4004abd",
   "metadata": {
    "scrolled": false
   },
   "outputs": [
    {
     "data": {
      "image/png": "[encoded data removed]",
      "text/plain": [
       "<Figure size 936x648 with 1 Axes>"
      ]
     },
     "metadata": {
      "needs_background": "light"
     },
     "output_type": "display_data"
    }
   ],
   "source": [
    "# Смотрим есть ли выбросы в признаке возраста\n",
    "plt.figure(figsize = (13,9))\n",
    "user_df.age.plot.box()\n",
    "plt.ylabel('Number of the Age');"
   ]
  },
  {
   "cell_type": "code",
   "execution_count": 16,
   "id": "dc1b0744",
   "metadata": {},
   "outputs": [],
   "source": [
    "# Удаляем выбросы в age все что выше 98% квантиля\n",
    "high_age_quantile = int(user_df.age.quantile(q = 0.98))\n",
    "user_df = user_df[user_df['age']<high_age_quantile]"
   ]
  },
  {
   "cell_type": "code",
   "execution_count": 17,
   "id": "e129c36d",
   "metadata": {},
   "outputs": [
    {
     "data": {
      "image/png": "[encoded data removed]",
      "text/plain": [
       "<Figure size 936x648 with 1 Axes>"
      ]
     },
     "metadata": {
      "needs_background": "light"
     },
     "output_type": "display_data"
    }
   ],
   "source": [
    "# Смотрим какая самая популярная операционная система у наших юзеров\n",
    "plt.figure(figsize = (13,9))\n",
    "sns.countplot(data = user_df , x = 'os');"
   ]
  },
  {
   "cell_type": "code",
   "execution_count": 18,
   "id": "36ea4e85",
   "metadata": {},
   "outputs": [
    {
     "data": {
      "image/png": "[encoded data removed]",
      "text/plain": [
       "<Figure size 1080x576 with 2 Axes>"
      ]
     },
     "metadata": {
      "needs_background": "light"
     },
     "output_type": "display_data"
    }
   ],
   "source": [
    "# Cмотрим кол-во женщин и мужчин в России \n",
    "counting_gender = user_df.query('country == \"Russia\"').gender.value_counts()\n",
    "# А также средний возраст пользователей из России\n",
    "counting_age = user_df.query('country == \"Russia\"').age.value_counts()\n",
    "\n",
    "fig = plt.figure()\n",
    "fig.set_size_inches(15, 8)\n",
    "ax1 = fig.add_subplot(2, 1, 1)\n",
    "counting_gender.plot(kind = 'bar')\n",
    "plt.xlabel('Gender, 1 - men, 0 - woman', fontsize = 10)\n",
    "plt.ylabel('Counts', fontsize = 10)\n",
    "plt.xticks(rotation = 45);\n",
    "\n",
    "ax2 = fig.add_subplot(2, 1, 2)\n",
    "counting_age.plot(kind = 'bar')\n",
    "plt.xticks(rotation = 90)\n",
    "plt.xlabel('Age', fontsize = 10)\n",
    "plt.ylabel('Counts', fontsize = 10)\n",
    "fig.tight_layout();"
   ]
  },
  {
   "cell_type": "code",
   "execution_count": 19,
   "id": "b533e522",
   "metadata": {},
   "outputs": [
    {
     "data": {
      "image/png": "[encoded data removed]",
      "text/plain": [
       "<Figure size 936x648 with 1 Axes>"
      ]
     },
     "metadata": {
      "needs_background": "light"
     },
     "output_type": "display_data"
    }
   ],
   "source": [
    "# Какие тематики самые популярные в нашей соц сети\n",
    "plt.figure(figsize = (13,9))\n",
    "topic_value_cnt = post_df.topic.value_counts()\n",
    "topic_value_cnt.plot(kind = 'bar')\n",
    "plt.xticks(rotation = 0);"
   ]
  },
  {
   "cell_type": "code",
   "execution_count": 21,
   "id": "f5f87294",
   "metadata": {},
   "outputs": [
    {
     "name": "stdout",
     "output_type": "stream",
     "text": [
      "Самая ранняя реакция пользователя по времени 2021-10-01 06:06:45\n",
      "Самая поздняя реакция пользователя по времени 2021-12-29 23:51:06\n"
     ]
    }
   ],
   "source": [
    "print(f\"Самая ранняя реакция пользователя по времени {feed_df.time.min()}\")\n",
    "print(f\"Самая поздняя реакция пользователя по времени {feed_df.time.max()}\")"
   ]
  },
  {
   "cell_type": "markdown",
   "id": "ed9ae9bb",
   "metadata": {},
   "source": [
    "## Предварительная подготовка данных к обучению"
   ]
  },
  {
   "cell_type": "code",
   "execution_count": 22,
   "id": "ca85a5b0",
   "metadata": {},
   "outputs": [],
   "source": [
    "# Собираем общий датафрейм, сортируем нашу выборку по полю time по возрастанию и создаем фичи из даты timestamp\n",
    "total_df = feed_df.merge(user_df).merge(post_df)\n",
    "total_df = total_df.sort_values('time', ascending = True)\n",
    "total_df['year'] = total_df.time.dt.year\n",
    "total_df['month'] = total_df.time.dt.month\n",
    "total_df['day'] = total_df.time.dt.day\n",
    "total_df['hour'] = total_df.time.dt.hour\n",
    "total_df.drop(columns = ['time', 'action'], inplace = True)"
   ]
  },
  {
   "cell_type": "code",
   "execution_count": 23,
   "id": "0b9bacf5",
   "metadata": {},
   "outputs": [
    {
     "data": {
      "image/png": "[encoded data removed]",
      "text/plain": [
       "<Figure size 1296x648 with 2 Axes>"
      ]
     },
     "metadata": {
      "needs_background": "light"
     },
     "output_type": "display_data"
    }
   ],
   "source": [
    "# Смотрим наличие сильных корреляций среди признаков\n",
    "plt.figure(figsize=(18,9))\n",
    "sns.heatmap(total_df.drop(columns=['user_id', 'post_id', 'year']).corr(), annot = True);"
   ]
  },
  {
   "cell_type": "code",
   "execution_count": 24,
   "id": "59d514a8",
   "metadata": {},
   "outputs": [],
   "source": [
    "# Разбиваем нашу выборку на треин и тест, где в трейне 80% событий с начала октября по конец ноября 2021 года\n",
    "# А в тесте находятся оставшиеся события с начала по конец декабря 2021 года\n",
    "_train = total_df.iloc[:-20000].copy()\n",
    "_test = total_df.iloc[-20000:].copy()\n",
    "\n",
    "X_train = _train.drop(columns = ['target'])\n",
    "y_train = _train.target\n",
    "X_test = _test.drop(columns =  ['target'])\n",
    "y_test = _test.target\n",
    "# Узнаем индекс наших категориальных признаков и запоминаем текстовый признак для CatBoost'а\n",
    "cat_features = ['os','source','topic','country','city' ,'user_id','post_id']\n",
    "text_feature = ['text']\n",
    "cat_features_idx = [list(X_train.columns).index(col) for col in cat_features]"
   ]
  },
  {
   "cell_type": "code",
   "execution_count": 25,
   "id": "6f76c597",
   "metadata": {},
   "outputs": [],
   "source": [
    "# Создаем кастомную метрику для оценки перфоманса нашей модели\n",
    "def custom_hitrate_metric(classifier, X, y_true, limit: int = 5):\n",
    "    \"\"\"\n",
    "    Кастомная метрика hitrate. По умолчанию находим топ 5 рекомендаций-постов.\n",
    "    Среди рекомендаций что мы показали пользователю есть хотя бы 1,\n",
    "    которая на самом деле ему понравилась.\n",
    "    На выходе усредняем кол-во понравившихся рекомендаций на общее кол-во\n",
    "    уникальных юзеров выборки.    \n",
    "    \"\"\"\n",
    "    \n",
    "    y_pred = classifier.predict(X)\n",
    "    y_pred_proba = classifier.predict_proba(X)[:,1]\n",
    "    X_ = X.copy()\n",
    "    \n",
    "    X_['preds'] = y_pred\n",
    "    X_['preds_proba'] = y_pred_proba\n",
    "    X_['target'] = y_true\n",
    "    \n",
    "    count = 0 \n",
    "    for user in X_['user_id'].unique(): \n",
    "        part = X_[X_['user_id'] == user] \n",
    "        part = part.sort_values('preds_proba', ascending=False).head(limit) \n",
    "        part = part[part['target'] == 1] \n",
    "        if (part['preds'] == part['target']).any():\n",
    "            count += 1 \n",
    "    return count / len(X_['user_id'].unique())"
   ]
  },
  {
   "cell_type": "markdown",
   "id": "fb2df2ce",
   "metadata": {},
   "source": [
    "## Тренировка и предикт модели"
   ]
  },
  {
   "cell_type": "code",
   "execution_count": 27,
   "id": "13b4e968",
   "metadata": {
    "scrolled": true
   },
   "outputs": [
    {
     "name": "stdout",
     "output_type": "stream",
     "text": [
      "0:\tlearn: 0.6927971\ttotal: 1.3s\tremaining: 2m 9s\n",
      "1:\tlearn: 0.6924160\ttotal: 2.51s\tremaining: 2m 2s\n",
      "2:\tlearn: 0.6921006\ttotal: 3.4s\tremaining: 1m 50s\n",
      "3:\tlearn: 0.6916929\ttotal: 4.31s\tremaining: 1m 43s\n",
      "4:\tlearn: 0.6913052\ttotal: 5.44s\tremaining: 1m 43s\n",
      "5:\tlearn: 0.6909385\ttotal: 6.49s\tremaining: 1m 41s\n",
      "6:\tlearn: 0.6906296\ttotal: 7.49s\tremaining: 1m 39s\n",
      "7:\tlearn: 0.6902814\ttotal: 8.58s\tremaining: 1m 38s\n",
      "8:\tlearn: 0.6899739\ttotal: 9.65s\tremaining: 1m 37s\n",
      "9:\tlearn: 0.6896730\ttotal: 10.5s\tremaining: 1m 34s\n",
      "10:\tlearn: 0.6893769\ttotal: 11.7s\tremaining: 1m 34s\n",
      "11:\tlearn: 0.6890345\ttotal: 13s\tremaining: 1m 35s\n",
      "12:\tlearn: 0.6886947\ttotal: 14s\tremaining: 1m 33s\n",
      "13:\tlearn: 0.6883810\ttotal: 15.1s\tremaining: 1m 32s\n",
      "14:\tlearn: 0.6880585\ttotal: 16.1s\tremaining: 1m 31s\n",
      "15:\tlearn: 0.6877754\ttotal: 17.1s\tremaining: 1m 29s\n",
      "16:\tlearn: 0.6874916\ttotal: 18.1s\tremaining: 1m 28s\n",
      "17:\tlearn: 0.6871982\ttotal: 19.2s\tremaining: 1m 27s\n",
      "18:\tlearn: 0.6869271\ttotal: 20s\tremaining: 1m 25s\n",
      "19:\tlearn: 0.6866542\ttotal: 20.9s\tremaining: 1m 23s\n",
      "20:\tlearn: 0.6863494\ttotal: 22s\tremaining: 1m 22s\n",
      "21:\tlearn: 0.6860522\ttotal: 23s\tremaining: 1m 21s\n",
      "22:\tlearn: 0.6857853\ttotal: 24.1s\tremaining: 1m 20s\n",
      "23:\tlearn: 0.6855351\ttotal: 25.1s\tremaining: 1m 19s\n",
      "24:\tlearn: 0.6852955\ttotal: 26s\tremaining: 1m 18s\n",
      "25:\tlearn: 0.6850699\ttotal: 27s\tremaining: 1m 16s\n",
      "26:\tlearn: 0.6848203\ttotal: 27.9s\tremaining: 1m 15s\n",
      "27:\tlearn: 0.6845875\ttotal: 28.9s\tremaining: 1m 14s\n",
      "28:\tlearn: 0.6843409\ttotal: 29.9s\tremaining: 1m 13s\n",
      "29:\tlearn: 0.6841562\ttotal: 30.7s\tremaining: 1m 11s\n",
      "30:\tlearn: 0.6839354\ttotal: 31.6s\tremaining: 1m 10s\n",
      "31:\tlearn: 0.6837212\ttotal: 32.6s\tremaining: 1m 9s\n",
      "32:\tlearn: 0.6834556\ttotal: 33.5s\tremaining: 1m 8s\n",
      "33:\tlearn: 0.6832320\ttotal: 34.5s\tremaining: 1m 6s\n",
      "34:\tlearn: 0.6829966\ttotal: 35.5s\tremaining: 1m 5s\n",
      "35:\tlearn: 0.6827980\ttotal: 36.4s\tremaining: 1m 4s\n",
      "36:\tlearn: 0.6825725\ttotal: 37.3s\tremaining: 1m 3s\n",
      "37:\tlearn: 0.6823381\ttotal: 38.2s\tremaining: 1m 2s\n",
      "38:\tlearn: 0.6821627\ttotal: 39s\tremaining: 1m\n",
      "39:\tlearn: 0.6819631\ttotal: 40s\tremaining: 60s\n",
      "40:\tlearn: 0.6817792\ttotal: 40.9s\tremaining: 58.9s\n",
      "41:\tlearn: 0.6815693\ttotal: 41.9s\tremaining: 57.9s\n",
      "42:\tlearn: 0.6809791\ttotal: 42.9s\tremaining: 56.8s\n",
      "43:\tlearn: 0.6802673\ttotal: 43.8s\tremaining: 55.7s\n",
      "44:\tlearn: 0.6795703\ttotal: 44.8s\tremaining: 54.8s\n",
      "45:\tlearn: 0.6788871\ttotal: 45.9s\tremaining: 53.9s\n",
      "46:\tlearn: 0.6782282\ttotal: 46.8s\tremaining: 52.8s\n",
      "47:\tlearn: 0.6775244\ttotal: 47.7s\tremaining: 51.7s\n",
      "48:\tlearn: 0.6768485\ttotal: 48.9s\tremaining: 50.9s\n",
      "49:\tlearn: 0.6762139\ttotal: 50s\tremaining: 50s\n",
      "50:\tlearn: 0.6755324\ttotal: 51.2s\tremaining: 49.2s\n",
      "51:\tlearn: 0.6748578\ttotal: 52.3s\tremaining: 48.3s\n",
      "52:\tlearn: 0.6742239\ttotal: 53.5s\tremaining: 47.4s\n",
      "53:\tlearn: 0.6736260\ttotal: 54.4s\tremaining: 46.4s\n",
      "54:\tlearn: 0.6729857\ttotal: 55.4s\tremaining: 45.3s\n",
      "55:\tlearn: 0.6723606\ttotal: 56.4s\tremaining: 44.3s\n",
      "56:\tlearn: 0.6717767\ttotal: 57.4s\tremaining: 43.3s\n",
      "57:\tlearn: 0.6712321\ttotal: 58.5s\tremaining: 42.4s\n",
      "58:\tlearn: 0.6706364\ttotal: 59.6s\tremaining: 41.4s\n",
      "59:\tlearn: 0.6700820\ttotal: 1m\tremaining: 40.5s\n",
      "60:\tlearn: 0.6695413\ttotal: 1m 1s\tremaining: 39.6s\n",
      "61:\tlearn: 0.6689848\ttotal: 1m 2s\tremaining: 38.6s\n",
      "62:\tlearn: 0.6684872\ttotal: 1m 4s\tremaining: 37.6s\n",
      "63:\tlearn: 0.6679524\ttotal: 1m 5s\tremaining: 36.6s\n",
      "64:\tlearn: 0.6674394\ttotal: 1m 6s\tremaining: 35.6s\n",
      "65:\tlearn: 0.6669240\ttotal: 1m 7s\tremaining: 34.5s\n",
      "66:\tlearn: 0.6664024\ttotal: 1m 8s\tremaining: 33.5s\n",
      "67:\tlearn: 0.6659106\ttotal: 1m 9s\tremaining: 32.5s\n",
      "68:\tlearn: 0.6654177\ttotal: 1m 10s\tremaining: 31.5s\n",
      "69:\tlearn: 0.6649188\ttotal: 1m 11s\tremaining: 30.5s\n",
      "70:\tlearn: 0.6644572\ttotal: 1m 12s\tremaining: 29.5s\n",
      "71:\tlearn: 0.6639758\ttotal: 1m 13s\tremaining: 28.5s\n",
      "72:\tlearn: 0.6635171\ttotal: 1m 14s\tremaining: 27.5s\n",
      "73:\tlearn: 0.6630718\ttotal: 1m 15s\tremaining: 26.5s\n",
      "74:\tlearn: 0.6626180\ttotal: 1m 16s\tremaining: 25.5s\n",
      "75:\tlearn: 0.6621813\ttotal: 1m 17s\tremaining: 24.5s\n",
      "76:\tlearn: 0.6617520\ttotal: 1m 18s\tremaining: 23.5s\n",
      "77:\tlearn: 0.6613389\ttotal: 1m 19s\tremaining: 22.5s\n",
      "78:\tlearn: 0.6609132\ttotal: 1m 20s\tremaining: 21.5s\n",
      "79:\tlearn: 0.6605267\ttotal: 1m 21s\tremaining: 20.4s\n",
      "80:\tlearn: 0.6601332\ttotal: 1m 22s\tremaining: 19.4s\n",
      "81:\tlearn: 0.6597362\ttotal: 1m 23s\tremaining: 18.4s\n",
      "82:\tlearn: 0.6593560\ttotal: 1m 24s\tremaining: 17.4s\n",
      "83:\tlearn: 0.6589764\ttotal: 1m 25s\tremaining: 16.3s\n",
      "84:\tlearn: 0.6586314\ttotal: 1m 26s\tremaining: 15.3s\n",
      "85:\tlearn: 0.6582501\ttotal: 1m 27s\tremaining: 14.3s\n",
      "86:\tlearn: 0.6579106\ttotal: 1m 28s\tremaining: 13.3s\n",
      "87:\tlearn: 0.6575553\ttotal: 1m 30s\tremaining: 12.3s\n",
      "88:\tlearn: 0.6572365\ttotal: 1m 31s\tremaining: 11.3s\n",
      "89:\tlearn: 0.6568954\ttotal: 1m 32s\tremaining: 10.2s\n",
      "90:\tlearn: 0.6565976\ttotal: 1m 33s\tremaining: 9.2s\n",
      "91:\tlearn: 0.6562647\ttotal: 1m 34s\tremaining: 8.18s\n",
      "92:\tlearn: 0.6559668\ttotal: 1m 34s\tremaining: 7.15s\n",
      "93:\tlearn: 0.6556272\ttotal: 1m 35s\tremaining: 6.12s\n",
      "94:\tlearn: 0.6553233\ttotal: 1m 36s\tremaining: 5.1s\n",
      "95:\tlearn: 0.6551880\ttotal: 1m 37s\tremaining: 4.08s\n",
      "96:\tlearn: 0.6548949\ttotal: 1m 39s\tremaining: 3.06s\n",
      "97:\tlearn: 0.6545802\ttotal: 1m 40s\tremaining: 2.04s\n",
      "98:\tlearn: 0.6542752\ttotal: 1m 41s\tremaining: 1.02s\n",
      "99:\tlearn: 0.6540041\ttotal: 1m 42s\tremaining: 0us\n"
     ]
    },
    {
     "data": {
      "text/plain": [
       "<catboost.core.CatBoostClassifier at 0x19cd2a39fa0>"
      ]
     },
     "execution_count": 27,
     "metadata": {},
     "output_type": "execute_result"
    }
   ],
   "source": [
    "# Так как у нас дисбаланс в классах попробуем установить гиперпараметр auto_class_weights, который будет перевзвешивать наши классы\n",
    "catboost_model = CatBoostClassifier(learning_rate = 0.01, iterations = 100, cat_features = cat_features_idx, random_seed = 42,\n",
    "                                    text_features = text_feature, auto_class_weights = 'Balanced')\n",
    "catboost_model.fit(X_train, y_train)"
   ]
  },
  {
   "cell_type": "markdown",
   "id": "1cf3817f",
   "metadata": {},
   "source": [
    "## Оцениваем перфоманс нашей модели"
   ]
  },
  {
   "cell_type": "code",
   "execution_count": 28,
   "id": "2a9a0abb",
   "metadata": {},
   "outputs": [
    {
     "name": "stdout",
     "output_type": "stream",
     "text": [
      " Hitrate@5 на трейне: 0.581\n",
      " Hitrate@5 на тесте: 0.522\n"
     ]
    }
   ],
   "source": [
    "print(f\" Hitrate@5 на трейне: {round(custom_hitrate_metric(catboost_model, X_train, y_train),3)}\")\n",
    "print(f\" Hitrate@5 на тесте: {round(custom_hitrate_metric(catboost_model, X_test, y_test),3)}\")"
   ]
  },
  {
   "cell_type": "markdown",
   "id": "a5eb2bd4",
   "metadata": {},
   "source": [
    "Порог в 0.4 метрики `Hitrate@5` пройден. В среднем наша модель в 2-3 из 5 постов рекомендует посты, которые нравятся  пользователям соц сети."
   ]
  },
  {
   "cell_type": "code",
   "execution_count": 29,
   "id": "9e7ed759",
   "metadata": {},
   "outputs": [
    {
     "name": "stdout",
     "output_type": "stream",
     "text": [
      "TRAIN \n",
      "               precision    recall  f1-score   support\n",
      "\n",
      "           0       0.94      0.54      0.69    832978\n",
      "           1       0.16      0.73      0.26     98557\n",
      "\n",
      "    accuracy                           0.56    931535\n",
      "   macro avg       0.55      0.64      0.48    931535\n",
      "weighted avg       0.86      0.56      0.64    931535\n",
      "\n",
      "TEST \n",
      "               precision    recall  f1-score   support\n",
      "\n",
      "           0       0.93      0.49      0.64     17597\n",
      "           1       0.17      0.74      0.27      2403\n",
      "\n",
      "    accuracy                           0.52     20000\n",
      "   macro avg       0.55      0.62      0.46     20000\n",
      "weighted avg       0.84      0.52      0.60     20000\n",
      "\n"
     ]
    }
   ],
   "source": [
    "print(\"TRAIN \\n\",classification_report(y_train, catboost_model.predict(X_train)))\n",
    "print(\"TEST \\n\",classification_report(y_test, catboost_model.predict(X_test)))"
   ]
  },
  {
   "cell_type": "code",
   "execution_count": 30,
   "id": "07526bcd",
   "metadata": {},
   "outputs": [
    {
     "name": "stdout",
     "output_type": "stream",
     "text": [
      "Матрица ошибок на трейне\n"
     ]
    },
    {
     "data": {
      "image/png": "[encoded data removed]",
      "text/plain": [
       "<Figure size 936x576 with 2 Axes>"
      ]
     },
     "metadata": {
      "needs_background": "light"
     },
     "output_type": "display_data"
    }
   ],
   "source": [
    "print(\"Матрица ошибок на трейне\")\n",
    "cm = confusion_matrix(y_train, catboost_model.predict(X_train), labels=catboost_model.classes_)\n",
    "\n",
    "cmp = ConfusionMatrixDisplay(confusion_matrix=cm)\n",
    "fig, ax = plt.subplots(figsize=(13,8))\n",
    "cmp.plot(ax=ax)\n",
    "\n",
    "plt.show()"
   ]
  },
  {
   "cell_type": "code",
   "execution_count": 31,
   "id": "19643fb8",
   "metadata": {
    "scrolled": false
   },
   "outputs": [
    {
     "name": "stdout",
     "output_type": "stream",
     "text": [
      "Матрица ошибок на тесте\n"
     ]
    },
    {
     "data": {
      "image/png": "[encoded data removed]",
      "text/plain": [
       "<Figure size 936x576 with 2 Axes>"
      ]
     },
     "metadata": {
      "needs_background": "light"
     },
     "output_type": "display_data"
    }
   ],
   "source": [
    "print(\"Матрица ошибок на тесте\")\n",
    "cm = confusion_matrix(y_test, catboost_model.predict(X_test), labels=catboost_model.classes_)\n",
    "\n",
    "cmp = ConfusionMatrixDisplay(confusion_matrix=cm)\n",
    "fig, ax = plt.subplots(figsize=(13,8))\n",
    "cmp.plot(ax=ax)\n",
    "\n",
    "plt.show()"
   ]
  },
  {
   "cell_type": "markdown",
   "id": "d2afbbac",
   "metadata": {},
   "source": [
    "Отчет по классификации и матрица ошибок показывают, что метрика `precision` для 1-ого класса у нашей модели низкий, а `recall` достаточно высокий, что говорит нам о том, что мы часто ошибаемся в классификации 1-ого класса и благодаря высокому покрытию `recall` угадываем большой процент постов, которые понравятся нашим пользователям. С 0-ым классом обстоят дела лучше, мы гораздо реже ошибаемся в его прогнозе. В целом для рекомендательной системы социальной сети - это приемлемый результат.  "
   ]
  },
  {
   "cell_type": "markdown",
   "id": "c4cdecc7",
   "metadata": {},
   "source": [
    "## Сохраняем нашу модель для сервиса рекомендательной системы"
   ]
  },
  {
   "cell_type": "code",
   "execution_count": 32,
   "id": "d6f56dbb",
   "metadata": {},
   "outputs": [],
   "source": [
    "catboost_model.save_model('catboost_model',\n",
    "                           format=\"cbm\")"
   ]
  }
 ],
 "metadata": {
  "kernelspec": {
   "display_name": "Python 3",
   "language": "python",
   "name": "python3"
  },
  "language_info": {
   "codemirror_mode": {
    "name": "ipython",
    "version": 3
   },
   "file_extension": ".py",
   "mimetype": "text/x-python",
   "name": "python",
   "nbconvert_exporter": "python",
   "pygments_lexer": "ipython3",
   "version": "3.8.8"
  }
 },
 "nbformat": 4,
 "nbformat_minor": 5
}
